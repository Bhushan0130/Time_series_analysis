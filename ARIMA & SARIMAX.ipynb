{
 "cells": [
  {
   "cell_type": "markdown",
   "id": "a6960961",
   "metadata": {},
   "source": [
    "## ARIMA:\n",
    "    AR: Auto Regression\n",
    "    I: Integrated\n",
    "    MA: Moving Average"
   ]
  },
  {
   "cell_type": "markdown",
   "id": "60b4e1e3",
   "metadata": {},
   "source": [
    "#### 1. check data for stationary\n",
    "#### by some hypothesis testing: Dickry Fuller test\n",
    "    Hi: unit root <1 => Data is stantionary\n",
    "    Ho: unit root =1 => Data is not stantionary\n",
    "\n",
    "    \n",
    "#### for stationary data:\n",
    "    1. mean should be constant\n",
    "    2. sd should also be constant\n",
    "    \n",
    "    \n",
    "    \n",
    "    if p < 0.05 h1 accept  \n",
    "       p >0.05 ho accept\n"
   ]
  },
  {
   "cell_type": "code",
   "execution_count": 58,
   "id": "7538c944",
   "metadata": {},
   "outputs": [],
   "source": [
    "import pandas as pd\n",
    "import matplotlib.pyplot as plit\n",
    "import statsmodels.api as sms\n",
    "import numpy as np\n",
    "%matplotlib inline\n",
    "from statsmodels.tsa.stattools import adfuller"
   ]
  },
  {
   "cell_type": "code",
   "execution_count": 59,
   "id": "cffd2bb2",
   "metadata": {},
   "outputs": [],
   "source": [
    "df = pd.read_csv('https://raw.githubusercontent.com/Bhushan0130/Datasets/main/airline_passengers.csv')"
   ]
  },
  {
   "cell_type": "code",
   "execution_count": 60,
   "id": "e7005e27",
   "metadata": {},
   "outputs": [
    {
     "data": {
      "text/html": [
       "<div>\n",
       "<style scoped>\n",
       "    .dataframe tbody tr th:only-of-type {\n",
       "        vertical-align: middle;\n",
       "    }\n",
       "\n",
       "    .dataframe tbody tr th {\n",
       "        vertical-align: top;\n",
       "    }\n",
       "\n",
       "    .dataframe thead th {\n",
       "        text-align: right;\n",
       "    }\n",
       "</style>\n",
       "<table border=\"1\" class=\"dataframe\">\n",
       "  <thead>\n",
       "    <tr style=\"text-align: right;\">\n",
       "      <th></th>\n",
       "      <th>Month</th>\n",
       "      <th>Thousands of Passengers</th>\n",
       "    </tr>\n",
       "  </thead>\n",
       "  <tbody>\n",
       "    <tr>\n",
       "      <th>0</th>\n",
       "      <td>1949-01</td>\n",
       "      <td>112.0</td>\n",
       "    </tr>\n",
       "    <tr>\n",
       "      <th>1</th>\n",
       "      <td>1949-02</td>\n",
       "      <td>118.0</td>\n",
       "    </tr>\n",
       "    <tr>\n",
       "      <th>2</th>\n",
       "      <td>1949-03</td>\n",
       "      <td>132.0</td>\n",
       "    </tr>\n",
       "    <tr>\n",
       "      <th>3</th>\n",
       "      <td>1949-04</td>\n",
       "      <td>129.0</td>\n",
       "    </tr>\n",
       "    <tr>\n",
       "      <th>4</th>\n",
       "      <td>1949-05</td>\n",
       "      <td>121.0</td>\n",
       "    </tr>\n",
       "  </tbody>\n",
       "</table>\n",
       "</div>"
      ],
      "text/plain": [
       "     Month  Thousands of Passengers\n",
       "0  1949-01                    112.0\n",
       "1  1949-02                    118.0\n",
       "2  1949-03                    132.0\n",
       "3  1949-04                    129.0\n",
       "4  1949-05                    121.0"
      ]
     },
     "execution_count": 60,
     "metadata": {},
     "output_type": "execute_result"
    }
   ],
   "source": [
    "df.head()"
   ]
  },
  {
   "cell_type": "code",
   "execution_count": 61,
   "id": "fcf88dc2",
   "metadata": {},
   "outputs": [
    {
     "data": {
      "text/plain": [
       "Month                      0\n",
       "Thousands of Passengers    1\n",
       "dtype: int64"
      ]
     },
     "execution_count": 61,
     "metadata": {},
     "output_type": "execute_result"
    }
   ],
   "source": [
    "df.isnull().sum()"
   ]
  },
  {
   "cell_type": "code",
   "execution_count": 62,
   "id": "ba4aaace",
   "metadata": {},
   "outputs": [
    {
     "data": {
      "text/plain": [
       "Month                      0\n",
       "Thousands of Passengers    0\n",
       "dtype: int64"
      ]
     },
     "execution_count": 62,
     "metadata": {},
     "output_type": "execute_result"
    }
   ],
   "source": [
    "df.dropna(inplace = True)\n",
    "df.isnull().sum()"
   ]
  },
  {
   "cell_type": "code",
   "execution_count": 63,
   "id": "59f87fd6",
   "metadata": {},
   "outputs": [
    {
     "name": "stdout",
     "output_type": "stream",
     "text": [
      "<class 'pandas.core.frame.DataFrame'>\n",
      "Int64Index: 144 entries, 0 to 143\n",
      "Data columns (total 2 columns):\n",
      " #   Column                   Non-Null Count  Dtype  \n",
      "---  ------                   --------------  -----  \n",
      " 0   Month                    144 non-null    object \n",
      " 1   Thousands of Passengers  144 non-null    float64\n",
      "dtypes: float64(1), object(1)\n",
      "memory usage: 3.4+ KB\n"
     ]
    }
   ],
   "source": [
    "df.info()"
   ]
  },
  {
   "cell_type": "markdown",
   "id": "978081de",
   "metadata": {},
   "source": [
    "             AR                          I                      MA\n",
    "             Auto regression          differencing              moving average\n",
    "             p                           d                        q"
   ]
  },
  {
   "cell_type": "markdown",
   "id": "9fd53b7f",
   "metadata": {},
   "source": [
    "### Partial Auto correlation"
   ]
  },
  {
   "cell_type": "code",
   "execution_count": 64,
   "id": "ae5e6a93",
   "metadata": {},
   "outputs": [],
   "source": [
    "df['Month'] = pd.to_datetime(df['Month'])"
   ]
  },
  {
   "cell_type": "code",
   "execution_count": 65,
   "id": "079f6729",
   "metadata": {},
   "outputs": [
    {
     "name": "stdout",
     "output_type": "stream",
     "text": [
      "<class 'pandas.core.frame.DataFrame'>\n",
      "Int64Index: 144 entries, 0 to 143\n",
      "Data columns (total 2 columns):\n",
      " #   Column                   Non-Null Count  Dtype         \n",
      "---  ------                   --------------  -----         \n",
      " 0   Month                    144 non-null    datetime64[ns]\n",
      " 1   Thousands of Passengers  144 non-null    float64       \n",
      "dtypes: datetime64[ns](1), float64(1)\n",
      "memory usage: 3.4 KB\n"
     ]
    }
   ],
   "source": [
    "df.info()"
   ]
  },
  {
   "cell_type": "code",
   "execution_count": 66,
   "id": "29f6a0fc",
   "metadata": {},
   "outputs": [],
   "source": [
    "df.set_index('Month', inplace = True)"
   ]
  },
  {
   "cell_type": "code",
   "execution_count": 67,
   "id": "b2ea800f",
   "metadata": {},
   "outputs": [
    {
     "data": {
      "text/html": [
       "<div>\n",
       "<style scoped>\n",
       "    .dataframe tbody tr th:only-of-type {\n",
       "        vertical-align: middle;\n",
       "    }\n",
       "\n",
       "    .dataframe tbody tr th {\n",
       "        vertical-align: top;\n",
       "    }\n",
       "\n",
       "    .dataframe thead th {\n",
       "        text-align: right;\n",
       "    }\n",
       "</style>\n",
       "<table border=\"1\" class=\"dataframe\">\n",
       "  <thead>\n",
       "    <tr style=\"text-align: right;\">\n",
       "      <th></th>\n",
       "      <th>Thousands of Passengers</th>\n",
       "    </tr>\n",
       "    <tr>\n",
       "      <th>Month</th>\n",
       "      <th></th>\n",
       "    </tr>\n",
       "  </thead>\n",
       "  <tbody>\n",
       "    <tr>\n",
       "      <th>1949-01-01</th>\n",
       "      <td>112.0</td>\n",
       "    </tr>\n",
       "    <tr>\n",
       "      <th>1949-02-01</th>\n",
       "      <td>118.0</td>\n",
       "    </tr>\n",
       "    <tr>\n",
       "      <th>1949-03-01</th>\n",
       "      <td>132.0</td>\n",
       "    </tr>\n",
       "    <tr>\n",
       "      <th>1949-04-01</th>\n",
       "      <td>129.0</td>\n",
       "    </tr>\n",
       "    <tr>\n",
       "      <th>1949-05-01</th>\n",
       "      <td>121.0</td>\n",
       "    </tr>\n",
       "  </tbody>\n",
       "</table>\n",
       "</div>"
      ],
      "text/plain": [
       "            Thousands of Passengers\n",
       "Month                              \n",
       "1949-01-01                    112.0\n",
       "1949-02-01                    118.0\n",
       "1949-03-01                    132.0\n",
       "1949-04-01                    129.0\n",
       "1949-05-01                    121.0"
      ]
     },
     "execution_count": 67,
     "metadata": {},
     "output_type": "execute_result"
    }
   ],
   "source": [
    "df.head()"
   ]
  },
  {
   "cell_type": "code",
   "execution_count": 68,
   "id": "9292d34d",
   "metadata": {},
   "outputs": [
    {
     "data": {
      "text/plain": [
       "<AxesSubplot:xlabel='Month'>"
      ]
     },
     "execution_count": 68,
     "metadata": {},
     "output_type": "execute_result"
    },
    {
     "data": {
      "image/png": "[encoded data removed]",
      "text/plain": [
       "<Figure size 1080x432 with 1 Axes>"
      ]
     },
     "metadata": {
      "needs_background": "light"
     },
     "output_type": "display_data"
    }
   ],
   "source": [
    "df.plot(figsize = (15, 6))"
   ]
  },
  {
   "cell_type": "code",
   "execution_count": 69,
   "id": "175e2636",
   "metadata": {},
   "outputs": [],
   "source": [
    "def adfuller_func(series):\n",
    "    result = adfuller(series)\n",
    "    print('ADF Statistics: {}'.format(result[0]))\n",
    "    print('P value: {}'.format(result[1]))\n",
    "    \n",
    "    if result [1]<= 0.05:\n",
    "        print('Stong evidence against null hypothesis, reject null hypothesis Data has no unit root, and is staionary')\n",
    "        \n",
    "        \n",
    "    else :\n",
    "        print('Weak evidence against null hypothesis. time series has a unit root, indicating its non-stationary')"
   ]
  },
  {
   "cell_type": "code",
   "execution_count": 70,
   "id": "2118235a",
   "metadata": {},
   "outputs": [
    {
     "name": "stdout",
     "output_type": "stream",
     "text": [
      "ADF Statistics: 0.8153688792060507\n",
      "P value: 0.991880243437641\n",
      "Weak evidence against null hypothesis. time series has a unit root, indicating its non-stationary\n"
     ]
    }
   ],
   "source": [
    "adfuller_func(df['Thousands of Passengers'])"
   ]
  },
  {
   "cell_type": "markdown",
   "id": "df7a4f73",
   "metadata": {},
   "source": [
    "### Use differncing technique"
   ]
  },
  {
   "cell_type": "code",
   "execution_count": 71,
   "id": "756a4d51",
   "metadata": {},
   "outputs": [],
   "source": [
    "df['differncing_1'] = df['Thousands of Passengers'] - df['Thousands of Passengers'].shift(1)"
   ]
  },
  {
   "cell_type": "code",
   "execution_count": 72,
   "id": "9288face",
   "metadata": {},
   "outputs": [
    {
     "data": {
      "text/html": [
       "<div>\n",
       "<style scoped>\n",
       "    .dataframe tbody tr th:only-of-type {\n",
       "        vertical-align: middle;\n",
       "    }\n",
       "\n",
       "    .dataframe tbody tr th {\n",
       "        vertical-align: top;\n",
       "    }\n",
       "\n",
       "    .dataframe thead th {\n",
       "        text-align: right;\n",
       "    }\n",
       "</style>\n",
       "<table border=\"1\" class=\"dataframe\">\n",
       "  <thead>\n",
       "    <tr style=\"text-align: right;\">\n",
       "      <th></th>\n",
       "      <th>Thousands of Passengers</th>\n",
       "      <th>differncing_1</th>\n",
       "    </tr>\n",
       "    <tr>\n",
       "      <th>Month</th>\n",
       "      <th></th>\n",
       "      <th></th>\n",
       "    </tr>\n",
       "  </thead>\n",
       "  <tbody>\n",
       "    <tr>\n",
       "      <th>1949-01-01</th>\n",
       "      <td>112.0</td>\n",
       "      <td>NaN</td>\n",
       "    </tr>\n",
       "    <tr>\n",
       "      <th>1949-02-01</th>\n",
       "      <td>118.0</td>\n",
       "      <td>6.0</td>\n",
       "    </tr>\n",
       "    <tr>\n",
       "      <th>1949-03-01</th>\n",
       "      <td>132.0</td>\n",
       "      <td>14.0</td>\n",
       "    </tr>\n",
       "    <tr>\n",
       "      <th>1949-04-01</th>\n",
       "      <td>129.0</td>\n",
       "      <td>-3.0</td>\n",
       "    </tr>\n",
       "    <tr>\n",
       "      <th>1949-05-01</th>\n",
       "      <td>121.0</td>\n",
       "      <td>-8.0</td>\n",
       "    </tr>\n",
       "  </tbody>\n",
       "</table>\n",
       "</div>"
      ],
      "text/plain": [
       "            Thousands of Passengers  differncing_1\n",
       "Month                                             \n",
       "1949-01-01                    112.0            NaN\n",
       "1949-02-01                    118.0            6.0\n",
       "1949-03-01                    132.0           14.0\n",
       "1949-04-01                    129.0           -3.0\n",
       "1949-05-01                    121.0           -8.0"
      ]
     },
     "execution_count": 72,
     "metadata": {},
     "output_type": "execute_result"
    }
   ],
   "source": [
    "df.head()"
   ]
  },
  {
   "cell_type": "code",
   "execution_count": 73,
   "id": "2d6c95fa",
   "metadata": {},
   "outputs": [],
   "source": [
    "# df.dropna(inplace= True)"
   ]
  },
  {
   "cell_type": "code",
   "execution_count": 74,
   "id": "092d16fb",
   "metadata": {},
   "outputs": [
    {
     "name": "stdout",
     "output_type": "stream",
     "text": [
      "ADF Statistics: -2.8292668241699857\n",
      "P value: 0.05421329028382734\n",
      "Weak evidence against null hypothesis. time series has a unit root, indicating its non-stationary\n"
     ]
    }
   ],
   "source": [
    "adfuller_func(df['differncing_1'].dropna())"
   ]
  },
  {
   "cell_type": "code",
   "execution_count": null,
   "id": "74fcdc0f",
   "metadata": {},
   "outputs": [],
   "source": []
  },
  {
   "cell_type": "code",
   "execution_count": 75,
   "id": "285ff674",
   "metadata": {},
   "outputs": [],
   "source": [
    "df['differncing_2'] = df['differncing_1'] - df['differncing_1'].shift(1)"
   ]
  },
  {
   "cell_type": "code",
   "execution_count": 76,
   "id": "2998f62f",
   "metadata": {},
   "outputs": [],
   "source": [
    "# df.dropna(inplace = True)"
   ]
  },
  {
   "cell_type": "code",
   "execution_count": 77,
   "id": "f3aae9d5",
   "metadata": {},
   "outputs": [
    {
     "name": "stdout",
     "output_type": "stream",
     "text": [
      "ADF Statistics: -16.384231542468513\n",
      "P value: 2.7328918500142026e-29\n",
      "Stong evidence against null hypothesis, reject null hypothesis Data has no unit root, and is staionary\n"
     ]
    }
   ],
   "source": [
    "adfuller_func(df['differncing_2'].dropna())"
   ]
  },
  {
   "cell_type": "code",
   "execution_count": null,
   "id": "fe04e16d",
   "metadata": {},
   "outputs": [],
   "source": []
  },
  {
   "cell_type": "code",
   "execution_count": 78,
   "id": "4c793e88",
   "metadata": {},
   "outputs": [],
   "source": [
    "from statsmodels.graphics.tsaplots import plot_acf, plot_pacf"
   ]
  },
  {
   "cell_type": "code",
   "execution_count": 80,
   "id": "5d11bba3",
   "metadata": {},
   "outputs": [
    {
     "data": {
      "image/png": "[encoded data removed]",
      "text/plain": [
       "<Figure size 432x288 with 1 Axes>"
      ]
     },
     "metadata": {
      "needs_background": "light"
     },
     "output_type": "display_data"
    }
   ],
   "source": [
    "acf = plot_acf(df['differncing_2'].dropna())"
   ]
  },
  {
   "cell_type": "code",
   "execution_count": 81,
   "id": "9ca2efae",
   "metadata": {},
   "outputs": [
    {
     "name": "stderr",
     "output_type": "stream",
     "text": [
      "/Users/bhushansharma/env/lib/python3.8/site-packages/statsmodels/graphics/tsaplots.py:348: FutureWarning: The default method 'yw' can produce PACF values outside of the [-1,1] interval. After 0.13, the default will change tounadjusted Yule-Walker ('ywm'). You can use this method now by setting method='ywm'.\n",
      "  warnings.warn(\n"
     ]
    },
    {
     "data": {
      "image/png": "[encoded data removed]",
      "text/plain": [
       "<Figure size 432x288 with 1 Axes>"
      ]
     },
     "metadata": {
      "needs_background": "light"
     },
     "output_type": "display_data"
    }
   ],
   "source": [
    "result = plot_pacf(df['differncing_2'].dropna())"
   ]
  },
  {
   "cell_type": "code",
   "execution_count": null,
   "id": "706ae159",
   "metadata": {},
   "outputs": [],
   "source": []
  },
  {
   "cell_type": "code",
   "execution_count": 85,
   "id": "d3b31e75",
   "metadata": {},
   "outputs": [],
   "source": [
    "df['differncing_12'] = df['Thousands of Passengers'] - df['Thousands of Passengers'].shift(12)"
   ]
  },
  {
   "cell_type": "code",
   "execution_count": 86,
   "id": "0924438e",
   "metadata": {},
   "outputs": [
    {
     "name": "stdout",
     "output_type": "stream",
     "text": [
      "ADF Statistics: -3.3830207264924805\n",
      "P value: 0.011551493085514982\n",
      "Stong evidence against null hypothesis, reject null hypothesis Data has no unit root, and is staionary\n"
     ]
    }
   ],
   "source": [
    "adfuller_func(df['differncing_12'].dropna())"
   ]
  },
  {
   "cell_type": "code",
   "execution_count": 88,
   "id": "fb4023ba",
   "metadata": {},
   "outputs": [
    {
     "data": {
      "image/png": "[encoded data removed]",
      "text/plain": [
       "<Figure size 432x288 with 1 Axes>"
      ]
     },
     "metadata": {
      "needs_background": "light"
     },
     "output_type": "display_data"
    }
   ],
   "source": [
    "acf = plot_acf(df['differncing_12'].dropna())"
   ]
  },
  {
   "cell_type": "code",
   "execution_count": 89,
   "id": "d0fc2228",
   "metadata": {},
   "outputs": [
    {
     "name": "stderr",
     "output_type": "stream",
     "text": [
      "/Users/bhushansharma/env/lib/python3.8/site-packages/statsmodels/graphics/tsaplots.py:348: FutureWarning: The default method 'yw' can produce PACF values outside of the [-1,1] interval. After 0.13, the default will change tounadjusted Yule-Walker ('ywm'). You can use this method now by setting method='ywm'.\n",
      "  warnings.warn(\n"
     ]
    },
    {
     "data": {
      "image/png": "[encoded data removed]",
      "text/plain": [
       "<Figure size 432x288 with 1 Axes>"
      ]
     },
     "metadata": {
      "needs_background": "light"
     },
     "output_type": "display_data"
    }
   ],
   "source": [
    "result = plot_pacf(df['differncing_12'].dropna())"
   ]
  },
  {
   "cell_type": "code",
   "execution_count": 90,
   "id": "507b1a08",
   "metadata": {},
   "outputs": [
    {
     "data": {
      "text/html": [
       "<div>\n",
       "<style scoped>\n",
       "    .dataframe tbody tr th:only-of-type {\n",
       "        vertical-align: middle;\n",
       "    }\n",
       "\n",
       "    .dataframe tbody tr th {\n",
       "        vertical-align: top;\n",
       "    }\n",
       "\n",
       "    .dataframe thead th {\n",
       "        text-align: right;\n",
       "    }\n",
       "</style>\n",
       "<table border=\"1\" class=\"dataframe\">\n",
       "  <thead>\n",
       "    <tr style=\"text-align: right;\">\n",
       "      <th></th>\n",
       "      <th>Thousands of Passengers</th>\n",
       "      <th>differncing_1</th>\n",
       "      <th>differncing_2</th>\n",
       "      <th>differncing_12</th>\n",
       "    </tr>\n",
       "    <tr>\n",
       "      <th>Month</th>\n",
       "      <th></th>\n",
       "      <th></th>\n",
       "      <th></th>\n",
       "      <th></th>\n",
       "    </tr>\n",
       "  </thead>\n",
       "  <tbody>\n",
       "    <tr>\n",
       "      <th>1949-01-01</th>\n",
       "      <td>112.0</td>\n",
       "      <td>NaN</td>\n",
       "      <td>NaN</td>\n",
       "      <td>NaN</td>\n",
       "    </tr>\n",
       "    <tr>\n",
       "      <th>1949-02-01</th>\n",
       "      <td>118.0</td>\n",
       "      <td>6.0</td>\n",
       "      <td>NaN</td>\n",
       "      <td>NaN</td>\n",
       "    </tr>\n",
       "    <tr>\n",
       "      <th>1949-03-01</th>\n",
       "      <td>132.0</td>\n",
       "      <td>14.0</td>\n",
       "      <td>8.0</td>\n",
       "      <td>NaN</td>\n",
       "    </tr>\n",
       "    <tr>\n",
       "      <th>1949-04-01</th>\n",
       "      <td>129.0</td>\n",
       "      <td>-3.0</td>\n",
       "      <td>-17.0</td>\n",
       "      <td>NaN</td>\n",
       "    </tr>\n",
       "    <tr>\n",
       "      <th>1949-05-01</th>\n",
       "      <td>121.0</td>\n",
       "      <td>-8.0</td>\n",
       "      <td>-5.0</td>\n",
       "      <td>NaN</td>\n",
       "    </tr>\n",
       "  </tbody>\n",
       "</table>\n",
       "</div>"
      ],
      "text/plain": [
       "            Thousands of Passengers  differncing_1  differncing_2  \\\n",
       "Month                                                               \n",
       "1949-01-01                    112.0            NaN            NaN   \n",
       "1949-02-01                    118.0            6.0            NaN   \n",
       "1949-03-01                    132.0           14.0            8.0   \n",
       "1949-04-01                    129.0           -3.0          -17.0   \n",
       "1949-05-01                    121.0           -8.0           -5.0   \n",
       "\n",
       "            differncing_12  \n",
       "Month                       \n",
       "1949-01-01             NaN  \n",
       "1949-02-01             NaN  \n",
       "1949-03-01             NaN  \n",
       "1949-04-01             NaN  \n",
       "1949-05-01             NaN  "
      ]
     },
     "execution_count": 90,
     "metadata": {},
     "output_type": "execute_result"
    }
   ],
   "source": [
    "df.head()"
   ]
  },
  {
   "cell_type": "code",
   "execution_count": 91,
   "id": "0100499c",
   "metadata": {},
   "outputs": [],
   "source": [
    "from datetime import datetime, timedelta"
   ]
  },
  {
   "cell_type": "code",
   "execution_count": 92,
   "id": "fd4c44b3",
   "metadata": {},
   "outputs": [],
   "source": [
    "train_df_end = datetime(1955, 12, 1)\n",
    "test_df_end = datetime(1960, 12, 1)"
   ]
  },
  {
   "cell_type": "code",
   "execution_count": 94,
   "id": "5df9fef2",
   "metadata": {},
   "outputs": [],
   "source": [
    "train_data = df[: train_df_end]\n",
    "test_data = df[train_df_end+timedelta(days=1): test_df_end]"
   ]
  },
  {
   "cell_type": "code",
   "execution_count": null,
   "id": "47f8fb4d",
   "metadata": {},
   "outputs": [],
   "source": []
  },
  {
   "cell_type": "code",
   "execution_count": 97,
   "id": "34100248",
   "metadata": {},
   "outputs": [],
   "source": [
    "# Prediction\n",
    "pred_start_date = test_data.index[0]\n",
    "pred_end_date = test_data.index[-1]"
   ]
  },
  {
   "cell_type": "code",
   "execution_count": 99,
   "id": "5d3cc297",
   "metadata": {},
   "outputs": [
    {
     "data": {
      "text/html": [
       "<div>\n",
       "<style scoped>\n",
       "    .dataframe tbody tr th:only-of-type {\n",
       "        vertical-align: middle;\n",
       "    }\n",
       "\n",
       "    .dataframe tbody tr th {\n",
       "        vertical-align: top;\n",
       "    }\n",
       "\n",
       "    .dataframe thead th {\n",
       "        text-align: right;\n",
       "    }\n",
       "</style>\n",
       "<table border=\"1\" class=\"dataframe\">\n",
       "  <thead>\n",
       "    <tr style=\"text-align: right;\">\n",
       "      <th></th>\n",
       "      <th>Thousands of Passengers</th>\n",
       "      <th>differncing_1</th>\n",
       "      <th>differncing_2</th>\n",
       "      <th>differncing_12</th>\n",
       "    </tr>\n",
       "    <tr>\n",
       "      <th>Month</th>\n",
       "      <th></th>\n",
       "      <th></th>\n",
       "      <th></th>\n",
       "      <th></th>\n",
       "    </tr>\n",
       "  </thead>\n",
       "  <tbody>\n",
       "    <tr>\n",
       "      <th>1956-01-01</th>\n",
       "      <td>284.0</td>\n",
       "      <td>6.0</td>\n",
       "      <td>-35.0</td>\n",
       "      <td>42.0</td>\n",
       "    </tr>\n",
       "    <tr>\n",
       "      <th>1956-02-01</th>\n",
       "      <td>277.0</td>\n",
       "      <td>-7.0</td>\n",
       "      <td>-13.0</td>\n",
       "      <td>44.0</td>\n",
       "    </tr>\n",
       "    <tr>\n",
       "      <th>1956-03-01</th>\n",
       "      <td>317.0</td>\n",
       "      <td>40.0</td>\n",
       "      <td>47.0</td>\n",
       "      <td>50.0</td>\n",
       "    </tr>\n",
       "    <tr>\n",
       "      <th>1956-04-01</th>\n",
       "      <td>313.0</td>\n",
       "      <td>-4.0</td>\n",
       "      <td>-44.0</td>\n",
       "      <td>44.0</td>\n",
       "    </tr>\n",
       "    <tr>\n",
       "      <th>1956-05-01</th>\n",
       "      <td>318.0</td>\n",
       "      <td>5.0</td>\n",
       "      <td>9.0</td>\n",
       "      <td>48.0</td>\n",
       "    </tr>\n",
       "  </tbody>\n",
       "</table>\n",
       "</div>"
      ],
      "text/plain": [
       "            Thousands of Passengers  differncing_1  differncing_2  \\\n",
       "Month                                                               \n",
       "1956-01-01                    284.0            6.0          -35.0   \n",
       "1956-02-01                    277.0           -7.0          -13.0   \n",
       "1956-03-01                    317.0           40.0           47.0   \n",
       "1956-04-01                    313.0           -4.0          -44.0   \n",
       "1956-05-01                    318.0            5.0            9.0   \n",
       "\n",
       "            differncing_12  \n",
       "Month                       \n",
       "1956-01-01            42.0  \n",
       "1956-02-01            44.0  \n",
       "1956-03-01            50.0  \n",
       "1956-04-01            44.0  \n",
       "1956-05-01            48.0  "
      ]
     },
     "execution_count": 99,
     "metadata": {},
     "output_type": "execute_result"
    }
   ],
   "source": [
    "test_data.head()"
   ]
  },
  {
   "cell_type": "code",
   "execution_count": null,
   "id": "d9c140a9",
   "metadata": {},
   "outputs": [],
   "source": []
  },
  {
   "cell_type": "code",
   "execution_count": 100,
   "id": "8ce2af5b",
   "metadata": {},
   "outputs": [],
   "source": [
    "# Model Learning"
   ]
  },
  {
   "cell_type": "code",
   "execution_count": 104,
   "id": "1fbd0fa9",
   "metadata": {},
   "outputs": [],
   "source": [
    "# from statsmodels.tsa.arima_model import ARIMA\n",
    "# from statsmodels.tsa.arima.model import ARIMA\n",
    "from statsmodels.tsa.arima.model import ARIMA"
   ]
  },
  {
   "cell_type": "code",
   "execution_count": 105,
   "id": "74ce4fd1",
   "metadata": {},
   "outputs": [
    {
     "data": {
      "text/html": [
       "<div>\n",
       "<style scoped>\n",
       "    .dataframe tbody tr th:only-of-type {\n",
       "        vertical-align: middle;\n",
       "    }\n",
       "\n",
       "    .dataframe tbody tr th {\n",
       "        vertical-align: top;\n",
       "    }\n",
       "\n",
       "    .dataframe thead th {\n",
       "        text-align: right;\n",
       "    }\n",
       "</style>\n",
       "<table border=\"1\" class=\"dataframe\">\n",
       "  <thead>\n",
       "    <tr style=\"text-align: right;\">\n",
       "      <th></th>\n",
       "      <th>Thousands of Passengers</th>\n",
       "      <th>differncing_1</th>\n",
       "      <th>differncing_2</th>\n",
       "      <th>differncing_12</th>\n",
       "    </tr>\n",
       "    <tr>\n",
       "      <th>Month</th>\n",
       "      <th></th>\n",
       "      <th></th>\n",
       "      <th></th>\n",
       "      <th></th>\n",
       "    </tr>\n",
       "  </thead>\n",
       "  <tbody>\n",
       "    <tr>\n",
       "      <th>1949-01-01</th>\n",
       "      <td>112.0</td>\n",
       "      <td>NaN</td>\n",
       "      <td>NaN</td>\n",
       "      <td>NaN</td>\n",
       "    </tr>\n",
       "    <tr>\n",
       "      <th>1949-02-01</th>\n",
       "      <td>118.0</td>\n",
       "      <td>6.0</td>\n",
       "      <td>NaN</td>\n",
       "      <td>NaN</td>\n",
       "    </tr>\n",
       "    <tr>\n",
       "      <th>1949-03-01</th>\n",
       "      <td>132.0</td>\n",
       "      <td>14.0</td>\n",
       "      <td>8.0</td>\n",
       "      <td>NaN</td>\n",
       "    </tr>\n",
       "    <tr>\n",
       "      <th>1949-04-01</th>\n",
       "      <td>129.0</td>\n",
       "      <td>-3.0</td>\n",
       "      <td>-17.0</td>\n",
       "      <td>NaN</td>\n",
       "    </tr>\n",
       "    <tr>\n",
       "      <th>1949-05-01</th>\n",
       "      <td>121.0</td>\n",
       "      <td>-8.0</td>\n",
       "      <td>-5.0</td>\n",
       "      <td>NaN</td>\n",
       "    </tr>\n",
       "  </tbody>\n",
       "</table>\n",
       "</div>"
      ],
      "text/plain": [
       "            Thousands of Passengers  differncing_1  differncing_2  \\\n",
       "Month                                                               \n",
       "1949-01-01                    112.0            NaN            NaN   \n",
       "1949-02-01                    118.0            6.0            NaN   \n",
       "1949-03-01                    132.0           14.0            8.0   \n",
       "1949-04-01                    129.0           -3.0          -17.0   \n",
       "1949-05-01                    121.0           -8.0           -5.0   \n",
       "\n",
       "            differncing_12  \n",
       "Month                       \n",
       "1949-01-01             NaN  \n",
       "1949-02-01             NaN  \n",
       "1949-03-01             NaN  \n",
       "1949-04-01             NaN  \n",
       "1949-05-01             NaN  "
      ]
     },
     "execution_count": 105,
     "metadata": {},
     "output_type": "execute_result"
    }
   ],
   "source": [
    "train_data.head()"
   ]
  },
  {
   "cell_type": "code",
   "execution_count": 110,
   "id": "4eba7dcc",
   "metadata": {},
   "outputs": [
    {
     "name": "stderr",
     "output_type": "stream",
     "text": [
      "/Users/bhushansharma/env/lib/python3.8/site-packages/statsmodels/tsa/base/tsa_model.py:471: ValueWarning: No frequency information was provided, so inferred frequency MS will be used.\n",
      "  self._init_dates(dates, freq)\n",
      "/Users/bhushansharma/env/lib/python3.8/site-packages/statsmodels/tsa/base/tsa_model.py:471: ValueWarning: No frequency information was provided, so inferred frequency MS will be used.\n",
      "  self._init_dates(dates, freq)\n",
      "/Users/bhushansharma/env/lib/python3.8/site-packages/statsmodels/tsa/base/tsa_model.py:471: ValueWarning: No frequency information was provided, so inferred frequency MS will be used.\n",
      "  self._init_dates(dates, freq)\n"
     ]
    }
   ],
   "source": [
    "model_ARIMA = ARIMA(train_data['Thousands of Passengers'], order = (10, 2, 0))"
   ]
  },
  {
   "cell_type": "code",
   "execution_count": 111,
   "id": "97eb8d46",
   "metadata": {},
   "outputs": [],
   "source": [
    "model_Arima = model_ARIMA.fit()"
   ]
  },
  {
   "cell_type": "code",
   "execution_count": 112,
   "id": "a053719f",
   "metadata": {},
   "outputs": [
    {
     "data": {
      "text/html": [
       "<table class=\"simpletable\">\n",
       "<caption>SARIMAX Results</caption>\n",
       "<tr>\n",
       "  <th>Dep. Variable:</th>   <td>Thousands of Passengers</td> <th>  No. Observations:  </th>    <td>84</td>   \n",
       "</tr>\n",
       "<tr>\n",
       "  <th>Model:</th>               <td>ARIMA(10, 2, 0)</td>     <th>  Log Likelihood     </th> <td>-357.239</td>\n",
       "</tr>\n",
       "<tr>\n",
       "  <th>Date:</th>               <td>Sun, 18 Sep 2022</td>     <th>  AIC                </th>  <td>736.477</td>\n",
       "</tr>\n",
       "<tr>\n",
       "  <th>Time:</th>                   <td>02:06:49</td>         <th>  BIC                </th>  <td>762.951</td>\n",
       "</tr>\n",
       "<tr>\n",
       "  <th>Sample:</th>                <td>01-01-1949</td>        <th>  HQIC               </th>  <td>747.106</td>\n",
       "</tr>\n",
       "<tr>\n",
       "  <th></th>                      <td>- 12-01-1955</td>       <th>                     </th>     <td> </td>   \n",
       "</tr>\n",
       "<tr>\n",
       "  <th>Covariance Type:</th>           <td>opg</td>           <th>                     </th>     <td> </td>   \n",
       "</tr>\n",
       "</table>\n",
       "<table class=\"simpletable\">\n",
       "<tr>\n",
       "     <td></td>       <th>coef</th>     <th>std err</th>      <th>z</th>      <th>P>|z|</th>  <th>[0.025</th>    <th>0.975]</th>  \n",
       "</tr>\n",
       "<tr>\n",
       "  <th>ar.L1</th>  <td>   -0.5166</td> <td>    0.121</td> <td>   -4.262</td> <td> 0.000</td> <td>   -0.754</td> <td>   -0.279</td>\n",
       "</tr>\n",
       "<tr>\n",
       "  <th>ar.L2</th>  <td>   -0.7204</td> <td>    0.121</td> <td>   -5.940</td> <td> 0.000</td> <td>   -0.958</td> <td>   -0.483</td>\n",
       "</tr>\n",
       "<tr>\n",
       "  <th>ar.L3</th>  <td>   -0.4857</td> <td>    0.125</td> <td>   -3.876</td> <td> 0.000</td> <td>   -0.731</td> <td>   -0.240</td>\n",
       "</tr>\n",
       "<tr>\n",
       "  <th>ar.L4</th>  <td>   -0.7505</td> <td>    0.129</td> <td>   -5.819</td> <td> 0.000</td> <td>   -1.003</td> <td>   -0.498</td>\n",
       "</tr>\n",
       "<tr>\n",
       "  <th>ar.L5</th>  <td>   -0.5062</td> <td>    0.169</td> <td>   -2.991</td> <td> 0.003</td> <td>   -0.838</td> <td>   -0.175</td>\n",
       "</tr>\n",
       "<tr>\n",
       "  <th>ar.L6</th>  <td>   -0.5200</td> <td>    0.141</td> <td>   -3.683</td> <td> 0.000</td> <td>   -0.797</td> <td>   -0.243</td>\n",
       "</tr>\n",
       "<tr>\n",
       "  <th>ar.L7</th>  <td>   -0.3051</td> <td>    0.143</td> <td>   -2.127</td> <td> 0.033</td> <td>   -0.586</td> <td>   -0.024</td>\n",
       "</tr>\n",
       "<tr>\n",
       "  <th>ar.L8</th>  <td>   -0.5939</td> <td>    0.155</td> <td>   -3.833</td> <td> 0.000</td> <td>   -0.898</td> <td>   -0.290</td>\n",
       "</tr>\n",
       "<tr>\n",
       "  <th>ar.L9</th>  <td>   -0.2963</td> <td>    0.132</td> <td>   -2.241</td> <td> 0.025</td> <td>   -0.555</td> <td>   -0.037</td>\n",
       "</tr>\n",
       "<tr>\n",
       "  <th>ar.L10</th> <td>   -0.4825</td> <td>    0.110</td> <td>   -4.376</td> <td> 0.000</td> <td>   -0.699</td> <td>   -0.266</td>\n",
       "</tr>\n",
       "<tr>\n",
       "  <th>sigma2</th> <td>  336.0939</td> <td>   66.064</td> <td>    5.087</td> <td> 0.000</td> <td>  206.612</td> <td>  465.576</td>\n",
       "</tr>\n",
       "</table>\n",
       "<table class=\"simpletable\">\n",
       "<tr>\n",
       "  <th>Ljung-Box (L1) (Q):</th>     <td>10.86</td> <th>  Jarque-Bera (JB):  </th> <td>1.24</td>\n",
       "</tr>\n",
       "<tr>\n",
       "  <th>Prob(Q):</th>                <td>0.00</td>  <th>  Prob(JB):          </th> <td>0.54</td>\n",
       "</tr>\n",
       "<tr>\n",
       "  <th>Heteroskedasticity (H):</th> <td>2.85</td>  <th>  Skew:              </th> <td>0.24</td>\n",
       "</tr>\n",
       "<tr>\n",
       "  <th>Prob(H) (two-sided):</th>    <td>0.01</td>  <th>  Kurtosis:          </th> <td>2.64</td>\n",
       "</tr>\n",
       "</table><br/><br/>Warnings:<br/>[1] Covariance matrix calculated using the outer product of gradients (complex-step)."
      ],
      "text/plain": [
       "<class 'statsmodels.iolib.summary.Summary'>\n",
       "\"\"\"\n",
       "                                  SARIMAX Results                                  \n",
       "===================================================================================\n",
       "Dep. Variable:     Thousands of Passengers   No. Observations:                   84\n",
       "Model:                     ARIMA(10, 2, 0)   Log Likelihood                -357.239\n",
       "Date:                     Sun, 18 Sep 2022   AIC                            736.477\n",
       "Time:                             02:06:49   BIC                            762.951\n",
       "Sample:                         01-01-1949   HQIC                           747.106\n",
       "                              - 12-01-1955                                         \n",
       "Covariance Type:                       opg                                         \n",
       "==============================================================================\n",
       "                 coef    std err          z      P>|z|      [0.025      0.975]\n",
       "------------------------------------------------------------------------------\n",
       "ar.L1         -0.5166      0.121     -4.262      0.000      -0.754      -0.279\n",
       "ar.L2         -0.7204      0.121     -5.940      0.000      -0.958      -0.483\n",
       "ar.L3         -0.4857      0.125     -3.876      0.000      -0.731      -0.240\n",
       "ar.L4         -0.7505      0.129     -5.819      0.000      -1.003      -0.498\n",
       "ar.L5         -0.5062      0.169     -2.991      0.003      -0.838      -0.175\n",
       "ar.L6         -0.5200      0.141     -3.683      0.000      -0.797      -0.243\n",
       "ar.L7         -0.3051      0.143     -2.127      0.033      -0.586      -0.024\n",
       "ar.L8         -0.5939      0.155     -3.833      0.000      -0.898      -0.290\n",
       "ar.L9         -0.2963      0.132     -2.241      0.025      -0.555      -0.037\n",
       "ar.L10        -0.4825      0.110     -4.376      0.000      -0.699      -0.266\n",
       "sigma2       336.0939     66.064      5.087      0.000     206.612     465.576\n",
       "===================================================================================\n",
       "Ljung-Box (L1) (Q):                  10.86   Jarque-Bera (JB):                 1.24\n",
       "Prob(Q):                              0.00   Prob(JB):                         0.54\n",
       "Heteroskedasticity (H):               2.85   Skew:                             0.24\n",
       "Prob(H) (two-sided):                  0.01   Kurtosis:                         2.64\n",
       "===================================================================================\n",
       "\n",
       "Warnings:\n",
       "[1] Covariance matrix calculated using the outer product of gradients (complex-step).\n",
       "\"\"\""
      ]
     },
     "execution_count": 112,
     "metadata": {},
     "output_type": "execute_result"
    }
   ],
   "source": [
    "model_Arima.summary()"
   ]
  },
  {
   "cell_type": "code",
   "execution_count": null,
   "id": "802182d5",
   "metadata": {},
   "outputs": [],
   "source": []
  },
  {
   "cell_type": "code",
   "execution_count": 113,
   "id": "ccfd177f",
   "metadata": {},
   "outputs": [
    {
     "name": "stdout",
     "output_type": "stream",
     "text": [
      "1956-01-01 00:00:00\n",
      "1960-12-01 00:00:00\n"
     ]
    }
   ],
   "source": [
    "# Prediction\n",
    "pred_start_date = test_data.index[0]\n",
    "pred_end_date = test_data.index[-1]\n",
    "print(pred_start_date)\n",
    "print(pred_end_date)"
   ]
  },
  {
   "cell_type": "code",
   "execution_count": 115,
   "id": "1459bbec",
   "metadata": {},
   "outputs": [],
   "source": [
    "pred = model_Arima.predict(start = pred_start_date, end = pred_end_date)\n",
    "residuals = test_data['Thousands of Passengers']- pred"
   ]
  },
  {
   "cell_type": "code",
   "execution_count": 120,
   "id": "7ab5e177",
   "metadata": {},
   "outputs": [
    {
     "data": {
      "text/plain": [
       "1956-01-01    300.183613\n",
       "1956-02-01    309.478356\n",
       "1956-03-01    316.443015\n",
       "1956-04-01    307.827544\n",
       "1956-05-01    318.544235\n",
       "1956-06-01    348.922084\n",
       "1956-07-01    366.020290\n",
       "1956-08-01    346.567536\n",
       "1956-09-01    332.120969\n",
       "1956-10-01    307.734755\n",
       "1956-11-01    311.623912\n",
       "1956-12-01    339.828199\n",
       "1957-01-01    349.840408\n",
       "1957-02-01    356.098236\n",
       "1957-03-01    350.687829\n",
       "1957-04-01    350.080466\n",
       "1957-05-01    361.157696\n",
       "1957-06-01    381.216520\n",
       "1957-07-01    382.319378\n",
       "1957-08-01    372.852583\n",
       "1957-09-01    364.110098\n",
       "1957-10-01    356.108927\n",
       "1957-11-01    371.293792\n",
       "1957-12-01    385.323600\n",
       "1958-01-01    392.077843\n",
       "1958-02-01    391.405855\n",
       "1958-03-01    388.404584\n",
       "1958-04-01    391.572861\n",
       "1958-05-01    402.448085\n",
       "1958-06-01    413.255691\n",
       "1958-07-01    410.853421\n",
       "1958-08-01    407.670548\n",
       "1958-09-01    402.486339\n",
       "1958-10-01    406.089152\n",
       "1958-11-01    418.125320\n",
       "1958-12-01    426.012382\n",
       "1959-01-01    429.205588\n",
       "1959-02-01    427.352237\n",
       "1959-03-01    428.150994\n",
       "1959-04-01    432.790854\n",
       "1959-05-01    442.336836\n",
       "1959-06-01    446.791771\n",
       "1959-07-01    446.101650\n",
       "1959-08-01    444.911400\n",
       "1959-09-01    444.640865\n",
       "1959-10-01    451.674540\n",
       "1959-11-01    459.415322\n",
       "1959-12-01    464.580378\n",
       "1960-01-01    465.479633\n",
       "1960-02-01    465.694239\n",
       "1960-03-01    468.229495\n",
       "1960-04-01    473.904909\n",
       "1960-05-01    480.612096\n",
       "1960-06-01    482.824723\n",
       "1960-07-01    483.672232\n",
       "1960-08-01    483.883991\n",
       "1960-09-01    487.184114\n",
       "1960-10-01    493.432796\n",
       "1960-11-01    498.930086\n",
       "1960-12-01    502.159838\n",
       "Freq: MS, Name: predicted_mean, dtype: float64"
      ]
     },
     "execution_count": 120,
     "metadata": {},
     "output_type": "execute_result"
    }
   ],
   "source": [
    "pred"
   ]
  },
  {
   "cell_type": "code",
   "execution_count": 116,
   "id": "48406f0f",
   "metadata": {},
   "outputs": [
    {
     "data": {
      "text/plain": [
       "Month\n",
       "1956-01-01    -16.183613\n",
       "1956-02-01    -32.478356\n",
       "1956-03-01      0.556985\n",
       "1956-04-01      5.172456\n",
       "1956-05-01     -0.544235\n",
       "1956-06-01     25.077916\n",
       "1956-07-01     46.979710\n",
       "1956-08-01     58.432464\n",
       "1956-09-01     22.879031\n",
       "1956-10-01     -1.734755\n",
       "1956-11-01    -40.623912\n",
       "1956-12-01    -33.828199\n",
       "1957-01-01    -34.840408\n",
       "1957-02-01    -55.098236\n",
       "1957-03-01      5.312171\n",
       "1957-04-01     -2.080466\n",
       "1957-05-01     -6.157696\n",
       "1957-06-01     40.783480\n",
       "1957-07-01     82.680622\n",
       "1957-08-01     94.147417\n",
       "1957-09-01     39.889902\n",
       "1957-10-01     -9.108927\n",
       "1957-11-01    -66.293792\n",
       "1957-12-01    -49.323600\n",
       "1958-01-01    -52.077843\n",
       "1958-02-01    -73.405855\n",
       "1958-03-01    -26.404584\n",
       "1958-04-01    -43.572861\n",
       "1958-05-01    -39.448085\n",
       "1958-06-01     21.744309\n",
       "1958-07-01     80.146579\n",
       "1958-08-01     97.329452\n",
       "1958-09-01      1.513661\n",
       "1958-10-01    -47.089152\n",
       "1958-11-01   -108.125320\n",
       "1958-12-01    -89.012382\n",
       "1959-01-01    -69.205588\n",
       "1959-02-01    -85.352237\n",
       "1959-03-01    -22.150994\n",
       "1959-04-01    -36.790854\n",
       "1959-05-01    -22.336836\n",
       "1959-06-01     25.208229\n",
       "1959-07-01    101.898350\n",
       "1959-08-01    114.088600\n",
       "1959-09-01     18.359135\n",
       "1959-10-01    -44.674540\n",
       "1959-11-01    -97.415322\n",
       "1959-12-01    -59.580378\n",
       "1960-01-01    -48.479633\n",
       "1960-02-01    -74.694239\n",
       "1960-03-01    -49.229495\n",
       "1960-04-01    -12.904909\n",
       "1960-05-01     -8.612096\n",
       "1960-06-01     52.175277\n",
       "1960-07-01    138.327768\n",
       "1960-08-01    122.116009\n",
       "1960-09-01     20.815886\n",
       "1960-10-01    -32.432796\n",
       "1960-11-01   -108.930086\n",
       "1960-12-01    -70.159838\n",
       "dtype: float64"
      ]
     },
     "execution_count": 116,
     "metadata": {},
     "output_type": "execute_result"
    }
   ],
   "source": [
    "residuals"
   ]
  },
  {
   "cell_type": "code",
   "execution_count": 117,
   "id": "25a85247",
   "metadata": {},
   "outputs": [
    {
     "data": {
      "text/plain": [
       "<AxesSubplot:ylabel='Density'>"
      ]
     },
     "execution_count": 117,
     "metadata": {},
     "output_type": "execute_result"
    },
    {
     "data": {
      "image/png": "[encoded data removed]",
      "text/plain": [
       "<Figure size 432x288 with 1 Axes>"
      ]
     },
     "metadata": {
      "needs_background": "light"
     },
     "output_type": "display_data"
    }
   ],
   "source": [
    "model_Arima.resid.plot(kind = 'kde')"
   ]
  },
  {
   "cell_type": "code",
   "execution_count": 118,
   "id": "823de46a",
   "metadata": {},
   "outputs": [
    {
     "name": "stderr",
     "output_type": "stream",
     "text": [
      "/var/folders/9j/sr8_jh0x4b14zk2gmyqvh2400000gn/T/ipykernel_28142/2208642096.py:1: SettingWithCopyWarning: \n",
      "A value is trying to be set on a copy of a slice from a DataFrame.\n",
      "Try using .loc[row_indexer,col_indexer] = value instead\n",
      "\n",
      "See the caveats in the documentation: https://pandas.pydata.org/pandas-docs/stable/user_guide/indexing.html#returning-a-view-versus-a-copy\n",
      "  test_data['Predicted_ARIMA']  = pred\n"
     ]
    }
   ],
   "source": [
    "test_data['Predicted_ARIMA']  = pred"
   ]
  },
  {
   "cell_type": "code",
   "execution_count": 121,
   "id": "b23ae896",
   "metadata": {},
   "outputs": [
    {
     "data": {
      "text/plain": [
       "<AxesSubplot:xlabel='Month'>"
      ]
     },
     "execution_count": 121,
     "metadata": {},
     "output_type": "execute_result"
    },
    {
     "data": {
      "image/png": "[encoded data removed]",
      "text/plain": [
       "<Figure size 1080x432 with 1 Axes>"
      ]
     },
     "metadata": {
      "needs_background": "light"
     },
     "output_type": "display_data"
    }
   ],
   "source": [
    "test_data[['Thousands of Passengers', 'Predicted_ARIMA' ]].plot(figsize = (15,6))"
   ]
  },
  {
   "cell_type": "code",
   "execution_count": 122,
   "id": "a22a90a5",
   "metadata": {},
   "outputs": [
    {
     "data": {
      "text/html": [
       "<div>\n",
       "<style scoped>\n",
       "    .dataframe tbody tr th:only-of-type {\n",
       "        vertical-align: middle;\n",
       "    }\n",
       "\n",
       "    .dataframe tbody tr th {\n",
       "        vertical-align: top;\n",
       "    }\n",
       "\n",
       "    .dataframe thead th {\n",
       "        text-align: right;\n",
       "    }\n",
       "</style>\n",
       "<table border=\"1\" class=\"dataframe\">\n",
       "  <thead>\n",
       "    <tr style=\"text-align: right;\">\n",
       "      <th></th>\n",
       "      <th>Thousands of Passengers</th>\n",
       "      <th>differncing_1</th>\n",
       "      <th>differncing_2</th>\n",
       "      <th>differncing_12</th>\n",
       "      <th>Predicted_ARIMA</th>\n",
       "    </tr>\n",
       "    <tr>\n",
       "      <th>Month</th>\n",
       "      <th></th>\n",
       "      <th></th>\n",
       "      <th></th>\n",
       "      <th></th>\n",
       "      <th></th>\n",
       "    </tr>\n",
       "  </thead>\n",
       "  <tbody>\n",
       "    <tr>\n",
       "      <th>1956-01-01</th>\n",
       "      <td>284.0</td>\n",
       "      <td>6.0</td>\n",
       "      <td>-35.0</td>\n",
       "      <td>42.0</td>\n",
       "      <td>300.183613</td>\n",
       "    </tr>\n",
       "    <tr>\n",
       "      <th>1956-02-01</th>\n",
       "      <td>277.0</td>\n",
       "      <td>-7.0</td>\n",
       "      <td>-13.0</td>\n",
       "      <td>44.0</td>\n",
       "      <td>309.478356</td>\n",
       "    </tr>\n",
       "    <tr>\n",
       "      <th>1956-03-01</th>\n",
       "      <td>317.0</td>\n",
       "      <td>40.0</td>\n",
       "      <td>47.0</td>\n",
       "      <td>50.0</td>\n",
       "      <td>316.443015</td>\n",
       "    </tr>\n",
       "    <tr>\n",
       "      <th>1956-04-01</th>\n",
       "      <td>313.0</td>\n",
       "      <td>-4.0</td>\n",
       "      <td>-44.0</td>\n",
       "      <td>44.0</td>\n",
       "      <td>307.827544</td>\n",
       "    </tr>\n",
       "    <tr>\n",
       "      <th>1956-05-01</th>\n",
       "      <td>318.0</td>\n",
       "      <td>5.0</td>\n",
       "      <td>9.0</td>\n",
       "      <td>48.0</td>\n",
       "      <td>318.544235</td>\n",
       "    </tr>\n",
       "    <tr>\n",
       "      <th>1956-06-01</th>\n",
       "      <td>374.0</td>\n",
       "      <td>56.0</td>\n",
       "      <td>51.0</td>\n",
       "      <td>59.0</td>\n",
       "      <td>348.922084</td>\n",
       "    </tr>\n",
       "    <tr>\n",
       "      <th>1956-07-01</th>\n",
       "      <td>413.0</td>\n",
       "      <td>39.0</td>\n",
       "      <td>-17.0</td>\n",
       "      <td>49.0</td>\n",
       "      <td>366.020290</td>\n",
       "    </tr>\n",
       "    <tr>\n",
       "      <th>1956-08-01</th>\n",
       "      <td>405.0</td>\n",
       "      <td>-8.0</td>\n",
       "      <td>-47.0</td>\n",
       "      <td>58.0</td>\n",
       "      <td>346.567536</td>\n",
       "    </tr>\n",
       "    <tr>\n",
       "      <th>1956-09-01</th>\n",
       "      <td>355.0</td>\n",
       "      <td>-50.0</td>\n",
       "      <td>-42.0</td>\n",
       "      <td>43.0</td>\n",
       "      <td>332.120969</td>\n",
       "    </tr>\n",
       "    <tr>\n",
       "      <th>1956-10-01</th>\n",
       "      <td>306.0</td>\n",
       "      <td>-49.0</td>\n",
       "      <td>1.0</td>\n",
       "      <td>32.0</td>\n",
       "      <td>307.734755</td>\n",
       "    </tr>\n",
       "    <tr>\n",
       "      <th>1956-11-01</th>\n",
       "      <td>271.0</td>\n",
       "      <td>-35.0</td>\n",
       "      <td>14.0</td>\n",
       "      <td>34.0</td>\n",
       "      <td>311.623912</td>\n",
       "    </tr>\n",
       "    <tr>\n",
       "      <th>1956-12-01</th>\n",
       "      <td>306.0</td>\n",
       "      <td>35.0</td>\n",
       "      <td>70.0</td>\n",
       "      <td>28.0</td>\n",
       "      <td>339.828199</td>\n",
       "    </tr>\n",
       "    <tr>\n",
       "      <th>1957-01-01</th>\n",
       "      <td>315.0</td>\n",
       "      <td>9.0</td>\n",
       "      <td>-26.0</td>\n",
       "      <td>31.0</td>\n",
       "      <td>349.840408</td>\n",
       "    </tr>\n",
       "    <tr>\n",
       "      <th>1957-02-01</th>\n",
       "      <td>301.0</td>\n",
       "      <td>-14.0</td>\n",
       "      <td>-23.0</td>\n",
       "      <td>24.0</td>\n",
       "      <td>356.098236</td>\n",
       "    </tr>\n",
       "    <tr>\n",
       "      <th>1957-03-01</th>\n",
       "      <td>356.0</td>\n",
       "      <td>55.0</td>\n",
       "      <td>69.0</td>\n",
       "      <td>39.0</td>\n",
       "      <td>350.687829</td>\n",
       "    </tr>\n",
       "    <tr>\n",
       "      <th>1957-04-01</th>\n",
       "      <td>348.0</td>\n",
       "      <td>-8.0</td>\n",
       "      <td>-63.0</td>\n",
       "      <td>35.0</td>\n",
       "      <td>350.080466</td>\n",
       "    </tr>\n",
       "    <tr>\n",
       "      <th>1957-05-01</th>\n",
       "      <td>355.0</td>\n",
       "      <td>7.0</td>\n",
       "      <td>15.0</td>\n",
       "      <td>37.0</td>\n",
       "      <td>361.157696</td>\n",
       "    </tr>\n",
       "    <tr>\n",
       "      <th>1957-06-01</th>\n",
       "      <td>422.0</td>\n",
       "      <td>67.0</td>\n",
       "      <td>60.0</td>\n",
       "      <td>48.0</td>\n",
       "      <td>381.216520</td>\n",
       "    </tr>\n",
       "    <tr>\n",
       "      <th>1957-07-01</th>\n",
       "      <td>465.0</td>\n",
       "      <td>43.0</td>\n",
       "      <td>-24.0</td>\n",
       "      <td>52.0</td>\n",
       "      <td>382.319378</td>\n",
       "    </tr>\n",
       "    <tr>\n",
       "      <th>1957-08-01</th>\n",
       "      <td>467.0</td>\n",
       "      <td>2.0</td>\n",
       "      <td>-41.0</td>\n",
       "      <td>62.0</td>\n",
       "      <td>372.852583</td>\n",
       "    </tr>\n",
       "    <tr>\n",
       "      <th>1957-09-01</th>\n",
       "      <td>404.0</td>\n",
       "      <td>-63.0</td>\n",
       "      <td>-65.0</td>\n",
       "      <td>49.0</td>\n",
       "      <td>364.110098</td>\n",
       "    </tr>\n",
       "    <tr>\n",
       "      <th>1957-10-01</th>\n",
       "      <td>347.0</td>\n",
       "      <td>-57.0</td>\n",
       "      <td>6.0</td>\n",
       "      <td>41.0</td>\n",
       "      <td>356.108927</td>\n",
       "    </tr>\n",
       "    <tr>\n",
       "      <th>1957-11-01</th>\n",
       "      <td>305.0</td>\n",
       "      <td>-42.0</td>\n",
       "      <td>15.0</td>\n",
       "      <td>34.0</td>\n",
       "      <td>371.293792</td>\n",
       "    </tr>\n",
       "    <tr>\n",
       "      <th>1957-12-01</th>\n",
       "      <td>336.0</td>\n",
       "      <td>31.0</td>\n",
       "      <td>73.0</td>\n",
       "      <td>30.0</td>\n",
       "      <td>385.323600</td>\n",
       "    </tr>\n",
       "    <tr>\n",
       "      <th>1958-01-01</th>\n",
       "      <td>340.0</td>\n",
       "      <td>4.0</td>\n",
       "      <td>-27.0</td>\n",
       "      <td>25.0</td>\n",
       "      <td>392.077843</td>\n",
       "    </tr>\n",
       "    <tr>\n",
       "      <th>1958-02-01</th>\n",
       "      <td>318.0</td>\n",
       "      <td>-22.0</td>\n",
       "      <td>-26.0</td>\n",
       "      <td>17.0</td>\n",
       "      <td>391.405855</td>\n",
       "    </tr>\n",
       "    <tr>\n",
       "      <th>1958-03-01</th>\n",
       "      <td>362.0</td>\n",
       "      <td>44.0</td>\n",
       "      <td>66.0</td>\n",
       "      <td>6.0</td>\n",
       "      <td>388.404584</td>\n",
       "    </tr>\n",
       "    <tr>\n",
       "      <th>1958-04-01</th>\n",
       "      <td>348.0</td>\n",
       "      <td>-14.0</td>\n",
       "      <td>-58.0</td>\n",
       "      <td>0.0</td>\n",
       "      <td>391.572861</td>\n",
       "    </tr>\n",
       "    <tr>\n",
       "      <th>1958-05-01</th>\n",
       "      <td>363.0</td>\n",
       "      <td>15.0</td>\n",
       "      <td>29.0</td>\n",
       "      <td>8.0</td>\n",
       "      <td>402.448085</td>\n",
       "    </tr>\n",
       "    <tr>\n",
       "      <th>1958-06-01</th>\n",
       "      <td>435.0</td>\n",
       "      <td>72.0</td>\n",
       "      <td>57.0</td>\n",
       "      <td>13.0</td>\n",
       "      <td>413.255691</td>\n",
       "    </tr>\n",
       "    <tr>\n",
       "      <th>1958-07-01</th>\n",
       "      <td>491.0</td>\n",
       "      <td>56.0</td>\n",
       "      <td>-16.0</td>\n",
       "      <td>26.0</td>\n",
       "      <td>410.853421</td>\n",
       "    </tr>\n",
       "    <tr>\n",
       "      <th>1958-08-01</th>\n",
       "      <td>505.0</td>\n",
       "      <td>14.0</td>\n",
       "      <td>-42.0</td>\n",
       "      <td>38.0</td>\n",
       "      <td>407.670548</td>\n",
       "    </tr>\n",
       "    <tr>\n",
       "      <th>1958-09-01</th>\n",
       "      <td>404.0</td>\n",
       "      <td>-101.0</td>\n",
       "      <td>-115.0</td>\n",
       "      <td>0.0</td>\n",
       "      <td>402.486339</td>\n",
       "    </tr>\n",
       "    <tr>\n",
       "      <th>1958-10-01</th>\n",
       "      <td>359.0</td>\n",
       "      <td>-45.0</td>\n",
       "      <td>56.0</td>\n",
       "      <td>12.0</td>\n",
       "      <td>406.089152</td>\n",
       "    </tr>\n",
       "    <tr>\n",
       "      <th>1958-11-01</th>\n",
       "      <td>310.0</td>\n",
       "      <td>-49.0</td>\n",
       "      <td>-4.0</td>\n",
       "      <td>5.0</td>\n",
       "      <td>418.125320</td>\n",
       "    </tr>\n",
       "    <tr>\n",
       "      <th>1958-12-01</th>\n",
       "      <td>337.0</td>\n",
       "      <td>27.0</td>\n",
       "      <td>76.0</td>\n",
       "      <td>1.0</td>\n",
       "      <td>426.012382</td>\n",
       "    </tr>\n",
       "    <tr>\n",
       "      <th>1959-01-01</th>\n",
       "      <td>360.0</td>\n",
       "      <td>23.0</td>\n",
       "      <td>-4.0</td>\n",
       "      <td>20.0</td>\n",
       "      <td>429.205588</td>\n",
       "    </tr>\n",
       "    <tr>\n",
       "      <th>1959-02-01</th>\n",
       "      <td>342.0</td>\n",
       "      <td>-18.0</td>\n",
       "      <td>-41.0</td>\n",
       "      <td>24.0</td>\n",
       "      <td>427.352237</td>\n",
       "    </tr>\n",
       "    <tr>\n",
       "      <th>1959-03-01</th>\n",
       "      <td>406.0</td>\n",
       "      <td>64.0</td>\n",
       "      <td>82.0</td>\n",
       "      <td>44.0</td>\n",
       "      <td>428.150994</td>\n",
       "    </tr>\n",
       "    <tr>\n",
       "      <th>1959-04-01</th>\n",
       "      <td>396.0</td>\n",
       "      <td>-10.0</td>\n",
       "      <td>-74.0</td>\n",
       "      <td>48.0</td>\n",
       "      <td>432.790854</td>\n",
       "    </tr>\n",
       "    <tr>\n",
       "      <th>1959-05-01</th>\n",
       "      <td>420.0</td>\n",
       "      <td>24.0</td>\n",
       "      <td>34.0</td>\n",
       "      <td>57.0</td>\n",
       "      <td>442.336836</td>\n",
       "    </tr>\n",
       "    <tr>\n",
       "      <th>1959-06-01</th>\n",
       "      <td>472.0</td>\n",
       "      <td>52.0</td>\n",
       "      <td>28.0</td>\n",
       "      <td>37.0</td>\n",
       "      <td>446.791771</td>\n",
       "    </tr>\n",
       "    <tr>\n",
       "      <th>1959-07-01</th>\n",
       "      <td>548.0</td>\n",
       "      <td>76.0</td>\n",
       "      <td>24.0</td>\n",
       "      <td>57.0</td>\n",
       "      <td>446.101650</td>\n",
       "    </tr>\n",
       "    <tr>\n",
       "      <th>1959-08-01</th>\n",
       "      <td>559.0</td>\n",
       "      <td>11.0</td>\n",
       "      <td>-65.0</td>\n",
       "      <td>54.0</td>\n",
       "      <td>444.911400</td>\n",
       "    </tr>\n",
       "    <tr>\n",
       "      <th>1959-09-01</th>\n",
       "      <td>463.0</td>\n",
       "      <td>-96.0</td>\n",
       "      <td>-107.0</td>\n",
       "      <td>59.0</td>\n",
       "      <td>444.640865</td>\n",
       "    </tr>\n",
       "    <tr>\n",
       "      <th>1959-10-01</th>\n",
       "      <td>407.0</td>\n",
       "      <td>-56.0</td>\n",
       "      <td>40.0</td>\n",
       "      <td>48.0</td>\n",
       "      <td>451.674540</td>\n",
       "    </tr>\n",
       "    <tr>\n",
       "      <th>1959-11-01</th>\n",
       "      <td>362.0</td>\n",
       "      <td>-45.0</td>\n",
       "      <td>11.0</td>\n",
       "      <td>52.0</td>\n",
       "      <td>459.415322</td>\n",
       "    </tr>\n",
       "    <tr>\n",
       "      <th>1959-12-01</th>\n",
       "      <td>405.0</td>\n",
       "      <td>43.0</td>\n",
       "      <td>88.0</td>\n",
       "      <td>68.0</td>\n",
       "      <td>464.580378</td>\n",
       "    </tr>\n",
       "    <tr>\n",
       "      <th>1960-01-01</th>\n",
       "      <td>417.0</td>\n",
       "      <td>12.0</td>\n",
       "      <td>-31.0</td>\n",
       "      <td>57.0</td>\n",
       "      <td>465.479633</td>\n",
       "    </tr>\n",
       "    <tr>\n",
       "      <th>1960-02-01</th>\n",
       "      <td>391.0</td>\n",
       "      <td>-26.0</td>\n",
       "      <td>-38.0</td>\n",
       "      <td>49.0</td>\n",
       "      <td>465.694239</td>\n",
       "    </tr>\n",
       "    <tr>\n",
       "      <th>1960-03-01</th>\n",
       "      <td>419.0</td>\n",
       "      <td>28.0</td>\n",
       "      <td>54.0</td>\n",
       "      <td>13.0</td>\n",
       "      <td>468.229495</td>\n",
       "    </tr>\n",
       "    <tr>\n",
       "      <th>1960-04-01</th>\n",
       "      <td>461.0</td>\n",
       "      <td>42.0</td>\n",
       "      <td>14.0</td>\n",
       "      <td>65.0</td>\n",
       "      <td>473.904909</td>\n",
       "    </tr>\n",
       "    <tr>\n",
       "      <th>1960-05-01</th>\n",
       "      <td>472.0</td>\n",
       "      <td>11.0</td>\n",
       "      <td>-31.0</td>\n",
       "      <td>52.0</td>\n",
       "      <td>480.612096</td>\n",
       "    </tr>\n",
       "    <tr>\n",
       "      <th>1960-06-01</th>\n",
       "      <td>535.0</td>\n",
       "      <td>63.0</td>\n",
       "      <td>52.0</td>\n",
       "      <td>63.0</td>\n",
       "      <td>482.824723</td>\n",
       "    </tr>\n",
       "    <tr>\n",
       "      <th>1960-07-01</th>\n",
       "      <td>622.0</td>\n",
       "      <td>87.0</td>\n",
       "      <td>24.0</td>\n",
       "      <td>74.0</td>\n",
       "      <td>483.672232</td>\n",
       "    </tr>\n",
       "    <tr>\n",
       "      <th>1960-08-01</th>\n",
       "      <td>606.0</td>\n",
       "      <td>-16.0</td>\n",
       "      <td>-103.0</td>\n",
       "      <td>47.0</td>\n",
       "      <td>483.883991</td>\n",
       "    </tr>\n",
       "    <tr>\n",
       "      <th>1960-09-01</th>\n",
       "      <td>508.0</td>\n",
       "      <td>-98.0</td>\n",
       "      <td>-82.0</td>\n",
       "      <td>45.0</td>\n",
       "      <td>487.184114</td>\n",
       "    </tr>\n",
       "    <tr>\n",
       "      <th>1960-10-01</th>\n",
       "      <td>461.0</td>\n",
       "      <td>-47.0</td>\n",
       "      <td>51.0</td>\n",
       "      <td>54.0</td>\n",
       "      <td>493.432796</td>\n",
       "    </tr>\n",
       "    <tr>\n",
       "      <th>1960-11-01</th>\n",
       "      <td>390.0</td>\n",
       "      <td>-71.0</td>\n",
       "      <td>-24.0</td>\n",
       "      <td>28.0</td>\n",
       "      <td>498.930086</td>\n",
       "    </tr>\n",
       "    <tr>\n",
       "      <th>1960-12-01</th>\n",
       "      <td>432.0</td>\n",
       "      <td>42.0</td>\n",
       "      <td>113.0</td>\n",
       "      <td>27.0</td>\n",
       "      <td>502.159838</td>\n",
       "    </tr>\n",
       "  </tbody>\n",
       "</table>\n",
       "</div>"
      ],
      "text/plain": [
       "            Thousands of Passengers  differncing_1  differncing_2  \\\n",
       "Month                                                               \n",
       "1956-01-01                    284.0            6.0          -35.0   \n",
       "1956-02-01                    277.0           -7.0          -13.0   \n",
       "1956-03-01                    317.0           40.0           47.0   \n",
       "1956-04-01                    313.0           -4.0          -44.0   \n",
       "1956-05-01                    318.0            5.0            9.0   \n",
       "1956-06-01                    374.0           56.0           51.0   \n",
       "1956-07-01                    413.0           39.0          -17.0   \n",
       "1956-08-01                    405.0           -8.0          -47.0   \n",
       "1956-09-01                    355.0          -50.0          -42.0   \n",
       "1956-10-01                    306.0          -49.0            1.0   \n",
       "1956-11-01                    271.0          -35.0           14.0   \n",
       "1956-12-01                    306.0           35.0           70.0   \n",
       "1957-01-01                    315.0            9.0          -26.0   \n",
       "1957-02-01                    301.0          -14.0          -23.0   \n",
       "1957-03-01                    356.0           55.0           69.0   \n",
       "1957-04-01                    348.0           -8.0          -63.0   \n",
       "1957-05-01                    355.0            7.0           15.0   \n",
       "1957-06-01                    422.0           67.0           60.0   \n",
       "1957-07-01                    465.0           43.0          -24.0   \n",
       "1957-08-01                    467.0            2.0          -41.0   \n",
       "1957-09-01                    404.0          -63.0          -65.0   \n",
       "1957-10-01                    347.0          -57.0            6.0   \n",
       "1957-11-01                    305.0          -42.0           15.0   \n",
       "1957-12-01                    336.0           31.0           73.0   \n",
       "1958-01-01                    340.0            4.0          -27.0   \n",
       "1958-02-01                    318.0          -22.0          -26.0   \n",
       "1958-03-01                    362.0           44.0           66.0   \n",
       "1958-04-01                    348.0          -14.0          -58.0   \n",
       "1958-05-01                    363.0           15.0           29.0   \n",
       "1958-06-01                    435.0           72.0           57.0   \n",
       "1958-07-01                    491.0           56.0          -16.0   \n",
       "1958-08-01                    505.0           14.0          -42.0   \n",
       "1958-09-01                    404.0         -101.0         -115.0   \n",
       "1958-10-01                    359.0          -45.0           56.0   \n",
       "1958-11-01                    310.0          -49.0           -4.0   \n",
       "1958-12-01                    337.0           27.0           76.0   \n",
       "1959-01-01                    360.0           23.0           -4.0   \n",
       "1959-02-01                    342.0          -18.0          -41.0   \n",
       "1959-03-01                    406.0           64.0           82.0   \n",
       "1959-04-01                    396.0          -10.0          -74.0   \n",
       "1959-05-01                    420.0           24.0           34.0   \n",
       "1959-06-01                    472.0           52.0           28.0   \n",
       "1959-07-01                    548.0           76.0           24.0   \n",
       "1959-08-01                    559.0           11.0          -65.0   \n",
       "1959-09-01                    463.0          -96.0         -107.0   \n",
       "1959-10-01                    407.0          -56.0           40.0   \n",
       "1959-11-01                    362.0          -45.0           11.0   \n",
       "1959-12-01                    405.0           43.0           88.0   \n",
       "1960-01-01                    417.0           12.0          -31.0   \n",
       "1960-02-01                    391.0          -26.0          -38.0   \n",
       "1960-03-01                    419.0           28.0           54.0   \n",
       "1960-04-01                    461.0           42.0           14.0   \n",
       "1960-05-01                    472.0           11.0          -31.0   \n",
       "1960-06-01                    535.0           63.0           52.0   \n",
       "1960-07-01                    622.0           87.0           24.0   \n",
       "1960-08-01                    606.0          -16.0         -103.0   \n",
       "1960-09-01                    508.0          -98.0          -82.0   \n",
       "1960-10-01                    461.0          -47.0           51.0   \n",
       "1960-11-01                    390.0          -71.0          -24.0   \n",
       "1960-12-01                    432.0           42.0          113.0   \n",
       "\n",
       "            differncing_12  Predicted_ARIMA  \n",
       "Month                                        \n",
       "1956-01-01            42.0       300.183613  \n",
       "1956-02-01            44.0       309.478356  \n",
       "1956-03-01            50.0       316.443015  \n",
       "1956-04-01            44.0       307.827544  \n",
       "1956-05-01            48.0       318.544235  \n",
       "1956-06-01            59.0       348.922084  \n",
       "1956-07-01            49.0       366.020290  \n",
       "1956-08-01            58.0       346.567536  \n",
       "1956-09-01            43.0       332.120969  \n",
       "1956-10-01            32.0       307.734755  \n",
       "1956-11-01            34.0       311.623912  \n",
       "1956-12-01            28.0       339.828199  \n",
       "1957-01-01            31.0       349.840408  \n",
       "1957-02-01            24.0       356.098236  \n",
       "1957-03-01            39.0       350.687829  \n",
       "1957-04-01            35.0       350.080466  \n",
       "1957-05-01            37.0       361.157696  \n",
       "1957-06-01            48.0       381.216520  \n",
       "1957-07-01            52.0       382.319378  \n",
       "1957-08-01            62.0       372.852583  \n",
       "1957-09-01            49.0       364.110098  \n",
       "1957-10-01            41.0       356.108927  \n",
       "1957-11-01            34.0       371.293792  \n",
       "1957-12-01            30.0       385.323600  \n",
       "1958-01-01            25.0       392.077843  \n",
       "1958-02-01            17.0       391.405855  \n",
       "1958-03-01             6.0       388.404584  \n",
       "1958-04-01             0.0       391.572861  \n",
       "1958-05-01             8.0       402.448085  \n",
       "1958-06-01            13.0       413.255691  \n",
       "1958-07-01            26.0       410.853421  \n",
       "1958-08-01            38.0       407.670548  \n",
       "1958-09-01             0.0       402.486339  \n",
       "1958-10-01            12.0       406.089152  \n",
       "1958-11-01             5.0       418.125320  \n",
       "1958-12-01             1.0       426.012382  \n",
       "1959-01-01            20.0       429.205588  \n",
       "1959-02-01            24.0       427.352237  \n",
       "1959-03-01            44.0       428.150994  \n",
       "1959-04-01            48.0       432.790854  \n",
       "1959-05-01            57.0       442.336836  \n",
       "1959-06-01            37.0       446.791771  \n",
       "1959-07-01            57.0       446.101650  \n",
       "1959-08-01            54.0       444.911400  \n",
       "1959-09-01            59.0       444.640865  \n",
       "1959-10-01            48.0       451.674540  \n",
       "1959-11-01            52.0       459.415322  \n",
       "1959-12-01            68.0       464.580378  \n",
       "1960-01-01            57.0       465.479633  \n",
       "1960-02-01            49.0       465.694239  \n",
       "1960-03-01            13.0       468.229495  \n",
       "1960-04-01            65.0       473.904909  \n",
       "1960-05-01            52.0       480.612096  \n",
       "1960-06-01            63.0       482.824723  \n",
       "1960-07-01            74.0       483.672232  \n",
       "1960-08-01            47.0       483.883991  \n",
       "1960-09-01            45.0       487.184114  \n",
       "1960-10-01            54.0       493.432796  \n",
       "1960-11-01            28.0       498.930086  \n",
       "1960-12-01            27.0       502.159838  "
      ]
     },
     "execution_count": 122,
     "metadata": {},
     "output_type": "execute_result"
    }
   ],
   "source": [
    "test_data"
   ]
  },
  {
   "cell_type": "code",
   "execution_count": null,
   "id": "8ab542a1",
   "metadata": {},
   "outputs": [],
   "source": []
  },
  {
   "cell_type": "code",
   "execution_count": null,
   "id": "87808c65",
   "metadata": {},
   "outputs": [],
   "source": []
  },
  {
   "cell_type": "code",
   "execution_count": 144,
   "id": "24c7c028",
   "metadata": {},
   "outputs": [],
   "source": [
    "# from statsmodels.tsa.statespace.sarimax import SARIMAX"
   ]
  },
  {
   "cell_type": "code",
   "execution_count": 145,
   "id": "34b688f7",
   "metadata": {},
   "outputs": [],
   "source": [
    "# model_sarimax = SARIMAX(train_data['Thousands of Passengers'], order = (0,2,0), seasonal_order = (1,0,1,12))"
   ]
  },
  {
   "cell_type": "code",
   "execution_count": 146,
   "id": "8ee8412a",
   "metadata": {},
   "outputs": [],
   "source": [
    "# model_sarimax_fit = model_sarimax.fit()"
   ]
  },
  {
   "cell_type": "code",
   "execution_count": 147,
   "id": "2fa7400d",
   "metadata": {},
   "outputs": [],
   "source": [
    "# model_sarimax_fit.summary()"
   ]
  },
  {
   "cell_type": "code",
   "execution_count": 148,
   "id": "96715cb8",
   "metadata": {},
   "outputs": [],
   "source": [
    "# test_data.head()"
   ]
  },
  {
   "cell_type": "code",
   "execution_count": 149,
   "id": "f7030ee2",
   "metadata": {},
   "outputs": [],
   "source": [
    "# # Prediction\n",
    "# pred_start_date = test_data.index[0]\n",
    "# pred_end_date = test_data.index[-1]\n",
    "# print(pred_start_date)\n",
    "# print(pred_end_date)"
   ]
  },
  {
   "cell_type": "code",
   "execution_count": 150,
   "id": "2a9bb92d",
   "metadata": {},
   "outputs": [],
   "source": [
    "# pred_sarima = model_sarimax_fit.predict(start =pred_start_date, end = pred_end_date)\n",
    "\n",
    "# residual_s = test_data['Thousands of Passengers'] -pred_sarima"
   ]
  },
  {
   "cell_type": "code",
   "execution_count": 151,
   "id": "8ad350ae",
   "metadata": {},
   "outputs": [],
   "source": [
    "# model_sarimax_fit.resid.plot()"
   ]
  },
  {
   "cell_type": "code",
   "execution_count": 152,
   "id": "a18dde1d",
   "metadata": {},
   "outputs": [],
   "source": [
    "# model_sarimax_fit.resid.plot(kind = 'kde')"
   ]
  },
  {
   "cell_type": "code",
   "execution_count": 153,
   "id": "2599ea2f",
   "metadata": {},
   "outputs": [],
   "source": [
    "# pred_sarima"
   ]
  },
  {
   "cell_type": "code",
   "execution_count": 154,
   "id": "c2c293a2",
   "metadata": {},
   "outputs": [],
   "source": [
    "# test_data['Pred_sarmax']=pred_sarima"
   ]
  },
  {
   "cell_type": "code",
   "execution_count": 155,
   "id": "78d86104",
   "metadata": {},
   "outputs": [],
   "source": [
    "# test_data [['Thousands of Passengers','Predicted_ARIMA','Pred_sarmax']].plot()"
   ]
  },
  {
   "cell_type": "code",
   "execution_count": null,
   "id": "1bb96df5",
   "metadata": {},
   "outputs": [],
   "source": []
  }
 ],
 "metadata": {
  "kernelspec": {
   "display_name": "Python 3 (ipykernel)",
   "language": "python",
   "name": "python3"
  },
  "language_info": {
   "codemirror_mode": {
    "name": "ipython",
    "version": 3
   },
   "file_extension": ".py",
   "mimetype": "text/x-python",
   "name": "python",
   "nbconvert_exporter": "python",
   "pygments_lexer": "ipython3",
   "version": "3.8.13"
  }
 },
 "nbformat": 4,
 "nbformat_minor": 5
}
